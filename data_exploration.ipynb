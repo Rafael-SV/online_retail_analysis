{
 "cells": [
  {
   "cell_type": "code",
   "execution_count": 1,
   "metadata": {},
   "outputs": [
    {
     "name": "stdout",
     "output_type": "stream",
     "text": [
      "(541909, 9)\n",
      "['Unnamed: 0', 'InvoiceNo', 'StockCode', 'Description', 'Quantity', 'InvoiceDate', 'UnitPrice', 'CustomerID', 'Country']\n",
      "(541909, 9)\n",
      "(406829, 9)\n",
      "(397924, 9)\n",
      "duplicate entries: 0\n",
      "  CustomerID InvoiceNo  Number_of_products\n",
      "0    12346.0    541431                   1\n",
      "1    12347.0    537626                  31\n",
      "2    12347.0    542237                  29\n",
      "3    12347.0    549222                  24\n",
      "4    12347.0    556201                  18\n",
      "5    12347.0    562032                  22\n",
      "6    12347.0    573511                  47\n",
      "7    12347.0    581180                  11\n",
      "8    12348.0    539318                  17\n",
      "9    12348.0    541998                   6\n"
     ]
    }
   ],
   "source": [
    "\n",
    "import pandas as pd\n",
    "import numpy as np\n",
    "import time, warnings\n",
    "import datetime as dt\n",
    "\n",
    "warnings.filterwarnings(\"ignore\")\n",
    "\n",
    "# read file\n",
    "data_raw = pd.read_csv(\"data.csv\", encoding=\"ISO-8859-1\", dtype={'CustomerID': str, 'InvoiceNo': str})\n",
    "# take a peak at structure of raw input\n",
    "print(data_raw.shape)\n",
    "print(list(data_raw.columns))\n",
    "data_raw.head()\n",
    "print(data_raw.shape)\n",
    "\n",
    "# time to start cleaning the data\n",
    "data = data_raw.dropna()\n",
    "print(data.shape)\n",
    "\n",
    "# remove returned items\n",
    "data = data[data['Quantity']>0]\n",
    "# check for how many were removed\n",
    "print(data.shape)\n",
    "#check for dupes\n",
    "print('duplicate entries: {}'.format(data.duplicated().sum()))\n",
    "\n",
    "# take a look at value counts\n",
    "pd.DataFrame([{'products': len(data['StockCode'].value_counts()), 'transactions': len(data['InvoiceNo'].value_counts()), 'customers': len(data['CustomerID'].value_counts()), }], columns = ['products', 'transactions', 'customers'])\n",
    "\n",
    "# now groupby customer to count items per invoice (per order)\n",
    "tmp = data.groupby(by=['CustomerID', 'InvoiceNo'], as_index=False)['InvoiceDate'].count()\n",
    "tmp.head()\n",
    "number_prod_per_basket = tmp.rename(columns = {'InvoiceDate':'Number_of_products'})\n",
    "print(number_prod_per_basket[:10].sort_values('CustomerID'))\n"
   ]
  },
  {
   "cell_type": "code",
   "execution_count": null,
   "metadata": {},
   "outputs": [],
   "source": []
  },
  {
   "cell_type": "code",
   "execution_count": null,
   "metadata": {},
   "outputs": [],
   "source": []
  }
 ],
 "metadata": {
  "kernelspec": {
   "display_name": "Python 3",
   "language": "python",
   "name": "python3"
  },
  "language_info": {
   "codemirror_mode": {
    "name": "ipython",
    "version": 3
   },
   "file_extension": ".py",
   "mimetype": "text/x-python",
   "name": "python",
   "nbconvert_exporter": "python",
   "pygments_lexer": "ipython3",
   "version": "3.7.0"
  }
 },
 "nbformat": 4,
 "nbformat_minor": 2
}
