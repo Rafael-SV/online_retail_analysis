{
 "cells": [
  {
   "cell_type": "code",
   "execution_count": 5,
   "metadata": {},
   "outputs": [
    {
     "name": "stderr",
     "output_type": "stream",
     "text": [
      "/Users/spazzmo1EE6/anaconda3/lib/python3.7/site-packages/sklearn/cross_validation.py:41: DeprecationWarning: This module was deprecated in version 0.18 in favor of the model_selection module into which all the refactored classes and functions are moved. Also note that the interface of the new CV iterators are different from that of this module. This module will be removed in 0.20.\n",
      "  \"This module will be removed in 0.20.\", DeprecationWarning)\n"
     ]
    },
    {
     "name": "stdout",
     "output_type": "stream",
     "text": [
      "(541909, 9)\n",
      "['Unnamed: 0', 'InvoiceNo', 'StockCode', 'Description', 'Quantity', 'InvoiceDate', 'UnitPrice', 'CustomerID', 'Country']\n",
      "(541909, 9)\n",
      "(406829, 9)\n",
      "(397924, 9)\n",
      "duplicate entries: 0\n",
      "  CustomerID InvoiceNo  Number_of_products\n",
      "0    12346.0    541431                   1\n",
      "1    12347.0    537626                  31\n",
      "2    12347.0    542237                  29\n",
      "3    12347.0    549222                  24\n",
      "4    12347.0    556201                  18\n",
      "5    12347.0    562032                  22\n",
      "6    12347.0    573511                  47\n",
      "7    12347.0    581180                  11\n",
      "8    12348.0    539318                  17\n",
      "9    12348.0    541998                   6\n"
     ]
    }
   ],
   "source": [
    "%matplotlib inline\n",
    "import pandas as pd\n",
    "import numpy as np\n",
    "import time, warnings\n",
    "import datetime as dt\n",
    "from sklearn import preprocessing\n",
    "import matplotlib.pyplot as plt\n",
    "from sklearn.linear_model import LogisticRegression\n",
    "from sklearn.cross_validation import train_test_split\n",
    "import seaborn as sns\n",
    "\n",
    "sns.set(style = \"white\")\n",
    "sns.set(style = \"whitegrid\", color_codes = True)\n",
    "\n",
    "\n",
    "warnings.filterwarnings(\"ignore\")\n",
    "\n",
    "# read file\n",
    "data_raw = pd.read_csv(\"data.csv\", encoding=\"ISO-8859-1\", dtype={'CustomerID': str, 'InvoiceNo': str})\n",
    "# take a peak at structure of raw input\n",
    "print(data_raw.shape)\n",
    "print(list(data_raw.columns))\n",
    "data_raw.head()\n",
    "print(data_raw.shape)\n",
    "\n",
    "# time to start cleaning the data\n",
    "data = data_raw.dropna()\n",
    "print(data.shape)\n",
    "\n",
    "# remove returned items\n",
    "data = data[data['Quantity']>0]\n",
    "# check for how many were removed\n",
    "print(data.shape)\n",
    "#check for dupes\n",
    "print('duplicate entries: {}'.format(data.duplicated().sum()))\n",
    "\n",
    "# take a look at value counts\n",
    "pd.DataFrame([{'products': len(data['StockCode'].value_counts()), 'transactions': len(data['InvoiceNo'].value_counts()), 'customers': len(data['CustomerID'].value_counts()), }], columns = ['products', 'transactions', 'customers'])\n",
    "\n",
    "# now groupby customer to count items per invoice (per order)\n",
    "tmp = data.groupby(by=['CustomerID', 'InvoiceNo'], as_index=False)['InvoiceDate'].count()\n",
    "tmp.head()\n",
    "number_prod_per_basket = tmp.rename(columns = {'InvoiceDate':'Number_of_products'})\n",
    "print(number_prod_per_basket[:10].sort_values('CustomerID'))\n"
   ]
  },
  {
   "cell_type": "code",
   "execution_count": 6,
   "metadata": {},
   "outputs": [
    {
     "name": "stdout",
     "output_type": "stream",
     "text": [
      "<class 'pandas.core.frame.DataFrame'>\n",
      "Index: 4339 entries, 12346.0 to 18287.0\n",
      "Data columns (total 3 columns):\n",
      "recency           4339 non-null int64\n",
      "frequency         4339 non-null int64\n",
      "monetary_value    4339 non-null float64\n",
      "dtypes: float64(1), int64(2)\n",
      "memory usage: 135.6+ KB\n",
      "1    2265\n",
      "0    2074\n",
      "Name: churned, dtype: int64\n"
     ]
    },
    {
     "data": {
      "image/png": "[encoded data removed]",
      "text/plain": [
       "<Figure size 432x288 with 1 Axes>"
      ]
     },
     "metadata": {
      "needs_background": "light"
     },
     "output_type": "display_data"
    },
    {
     "data": {
      "text/plain": [
       "Text(0,0.5,'frequency of purchase quartile')"
      ]
     },
     "execution_count": 6,
     "metadata": {},
     "output_type": "execute_result"
    },
    {
     "data": {
      "image/png": "[encoded data removed]",
      "text/plain": [
       "<Figure size 432x288 with 1 Axes>"
      ]
     },
     "metadata": {
      "needs_background": "light"
     },
     "output_type": "display_data"
    }
   ],
   "source": [
    "data['TotalPrice'] = data['UnitPrice'] * data['Quantity']\n",
    "#print(data.sort_values('CustomerID')[:5])\n",
    "#data.info()\n",
    "\n",
    "\n",
    "## make RFM categories\n",
    "# find min and max dates for recency calculations\n",
    "data['InvoiceDate'].min()\n",
    "data['InvoiceDate'].max()\n",
    "final_date_time = dt.datetime(2011,12,10)\n",
    "data['InvoiceDate'] = pd.to_datetime(data['InvoiceDate'])\n",
    "\n",
    "# create the RFM table with column names changed from string to more usable things\n",
    "RFM_table = data.groupby('CustomerID').agg({'InvoiceDate' : lambda x: (final_date_time - x.max()).days, 'InvoiceNo' : lambda x: len(x), 'TotalPrice' : lambda x: x.sum()})\n",
    "#RFM_table.info()\n",
    "\n",
    "RFM_table['InvoiceDate'] = RFM_table['InvoiceDate'].astype(int)\n",
    "RFM_table.rename(columns = {'InvoiceDate' : 'recency', 'InvoiceNo' : 'frequency', 'TotalPrice' : 'monetary_value'}, inplace=True)\n",
    "RFM_table.info()\n",
    "#RFM_table.head()\n",
    "\n",
    "# make quaRtile segments with quaNtile function\n",
    "quartiles = RFM_table.quantile(q = [0.25, 0.5, 0.75])\n",
    "quartiles = quartiles.to_dict()\n",
    "\n",
    "# now make new table with segmented version of original RFM_table\n",
    "RFM_segments = RFM_table\n",
    "#RFM_segments.info()\n",
    "# deine functions to return segment, low = good for recency, low = bad for frequency and monetary_value\n",
    "\n",
    "def recency_score(x, p, d):\n",
    "    if x <= d[p][0.25]:\n",
    "        return 1\n",
    "    elif x <= d[p][0.50]:\n",
    "        return 2\n",
    "    elif x <= d[p][0.75]:\n",
    "        return 3\n",
    "    else:\n",
    "        return 4\n",
    "\n",
    "def freq_and_monetization_score(x, p, d):\n",
    "    if x <= d[p][0.25]:\n",
    "        return 4\n",
    "    elif x <= d[p][0.50]:\n",
    "        return 3\n",
    "    elif x <= d[p][0.75]:\n",
    "        return 2\n",
    "    else:\n",
    "        return 1\n",
    "# define function to determine if churned or not. using if customer did or didnt buy in most recent 45 daysself.\n",
    "\n",
    "def is_churned(x):\n",
    "    if x <= 45:\n",
    "        return 0\n",
    "    else:\n",
    "        return 1\n",
    "    \n",
    "# now make the RFM_segments by applying quartile score functions to the RFM_segments table\n",
    "RFM_segments['recency_quartile'] = RFM_segments['recency'].apply(recency_score, args = ('recency', quartiles))\n",
    "RFM_segments['frequency_quartile'] = RFM_segments['frequency'].apply(freq_and_monetization_score, args = ('frequency', quartiles))\n",
    "RFM_segments['monetary_value_quartile'] = RFM_segments['monetary_value'].apply(freq_and_monetization_score, args = ('monetary_value', quartiles))\n",
    "RFM_segments['churned'] = RFM_segments['recency'].apply(is_churned)\n",
    "\n",
    "#RFM_segments.head()\n",
    "\n",
    "RFM_segments['RFM_score'] = RFM_segments.recency_quartile.map(str) + RFM_segments.frequency_quartile.map(str) + RFM_segments.monetary_value_quartile.map(str)\n",
    "\n",
    "RFM_segments.head()\n",
    "\n",
    "print(RFM_segments['churned'].value_counts())\n",
    "\n",
    "# lets take a look at the churn vs other variables\n",
    "\n",
    "sns.countplot(x = 'churned', data = RFM_segments, palette='hls')\n",
    "plt.show()\n",
    "\n",
    "pd.crosstab(RFM_segments.recency_quartile, RFM_segments.churned).plot(kind='bar')\n",
    "plt.title('churned by recency')\n",
    "plt.xlabel('churned')\n",
    "plt.ylabel('frequency of purchase quartile')\n"
   ]
  },
  {
   "cell_type": "code",
   "execution_count": null,
   "metadata": {},
   "outputs": [],
   "source": []
  },
  {
   "cell_type": "code",
   "execution_count": null,
   "metadata": {},
   "outputs": [],
   "source": []
  }
 ],
 "metadata": {
  "kernelspec": {
   "display_name": "Python 3",
   "language": "python",
   "name": "python3"
  },
  "language_info": {
   "codemirror_mode": {
    "name": "ipython",
    "version": 3
   },
   "file_extension": ".py",
   "mimetype": "text/x-python",
   "name": "python",
   "nbconvert_exporter": "python",
   "pygments_lexer": "ipython3",
   "version": "3.7.0"
  }
 },
 "nbformat": 4,
 "nbformat_minor": 2
}
